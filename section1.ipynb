{
  "nbformat": 4,
  "nbformat_minor": 0,
  "metadata": {
    "colab": {
      "name": "section1.ipynb",
      "provenance": [],
      "authorship_tag": "ABX9TyPWFCVucDkmnyW0O4OsbdWq",
      "include_colab_link": true
    },
    "kernelspec": {
      "name": "python3",
      "display_name": "Python 3"
    }
  },
  "cells": [
    {
      "cell_type": "markdown",
      "metadata": {
        "id": "view-in-github",
        "colab_type": "text"
      },
      "source": [
        "<a href=\"https://colab.research.google.com/github/da03/cs187-sections/blob/master/section1.ipynb\" target=\"_parent\"><img src=\"https://colab.research.google.com/assets/colab-badge.svg\" alt=\"Open In Colab\"/></a>"
      ]
    },
    {
      "cell_type": "markdown",
      "metadata": {
        "id": "wUz9Nr3Dufxd",
        "colab_type": "text"
      },
      "source": [
        "# Introduction to Scientific Computing in PyTorch"
      ]
    },
    {
      "cell_type": "code",
      "metadata": {
        "id": "Fsg78-YXxshd",
        "colab_type": "code",
        "colab": {}
      },
      "source": [
        "%matplotlib inline\n",
        "import torch\n",
        "from matplotlib import pyplot as plt"
      ],
      "execution_count": null,
      "outputs": []
    },
    {
      "cell_type": "markdown",
      "metadata": {
        "id": "tiWgcJPEvh10",
        "colab_type": "text"
      },
      "source": [
        "## Tensors"
      ]
    },
    {
      "cell_type": "markdown",
      "metadata": {
        "id": "CPh0PLQzuO-j",
        "colab_type": "text"
      },
      "source": [
        "## Regression Example\n",
        "\n",
        "We begin with a 1-d linear regression toy example, where we generate data points by sampling from a line and adding noise."
      ]
    },
    {
      "cell_type": "code",
      "metadata": {
        "id": "KMfctr-Pvo9W",
        "colab_type": "code",
        "colab": {
          "base_uri": "https://localhost:8080/",
          "height": 297
        },
        "outputId": "13eaab2b-284d-42b1-f02c-98ed7a89c47e"
      },
      "source": [
        "N = 64\n",
        "a = 3\n",
        "b = 4\n",
        "\n",
        "x = torch.randn(N)\n",
        "noise = torch.rand(N)\n",
        "\n",
        "y = a + b*x + noise\n",
        "\n",
        "plt.plot(x,y, 'r.')\n",
        "plt.xlabel('x')\n",
        "plt.ylabel('y')\n",
        "plt.legend(['data',])"
      ],
      "execution_count": null,
      "outputs": [
        {
          "output_type": "execute_result",
          "data": {
            "text/plain": [
              "<matplotlib.legend.Legend at 0x7fa7e14bb160>"
            ]
          },
          "metadata": {
            "tags": []
          },
          "execution_count": 3
        },
        {
          "output_type": "display_data",
          "data": {
            "image/png": "[encoded data removed]",
            "text/plain": [
              "<Figure size 432x288 with 1 Axes>"
            ]
          },
          "metadata": {
            "tags": [],
            "needs_background": "light"
          }
        }
      ]
    },
    {
      "cell_type": "markdown",
      "metadata": {
        "id": "SggugB1uyOg8",
        "colab_type": "text"
      },
      "source": [
        "We specify a linear model with two parameters `alpha` and `beta`: ```y_pred = alpha + beta * x```. We intialize parameters with normal distribution."
      ]
    },
    {
      "cell_type": "code",
      "metadata": {
        "id": "HAOBGdyByJMY",
        "colab_type": "code",
        "colab": {}
      },
      "source": [
        "alpha = torch.nn.Parameter(torch.randn(1))\n",
        "beta = torch.nn.Parameter(torch.randn(1))"
      ],
      "execution_count": null,
      "outputs": []
    },
    {
      "cell_type": "markdown",
      "metadata": {
        "id": "BvcOOFiUzYBP",
        "colab_type": "text"
      },
      "source": [
        "The initial model:"
      ]
    },
    {
      "cell_type": "code",
      "metadata": {
        "id": "gC34muCQ987g",
        "colab_type": "code",
        "colab": {}
      },
      "source": [
        "print(f\"Initial Alpha: {alpha}\")\n",
        "print(f\"Initial Beta: {beta}\")"
      ],
      "execution_count": null,
      "outputs": []
    },
    {
      "cell_type": "code",
      "metadata": {
        "id": "u3b1A6hJzaWC",
        "colab_type": "code",
        "colab": {
          "base_uri": "https://localhost:8080/",
          "height": 297
        },
        "outputId": "06ed894c-6458-47ea-ae23-e95b9abb6669"
      },
      "source": [
        "x_min = x.min()\n",
        "x_max = x.max()\n",
        "y_pred_min = alpha + beta*x_min\n",
        "y_pred_max = alpha + beta*x_max\n",
        "plt.plot(x,y, 'r.')\n",
        "plt.plot([x_min,x_max], [y_pred_min,y_pred_max], 'b-')\n",
        "plt.xlabel('x')\n",
        "plt.ylabel('y')\n",
        "plt.legend(['data', 'model'])"
      ],
      "execution_count": null,
      "outputs": [
        {
          "output_type": "execute_result",
          "data": {
            "text/plain": [
              "<matplotlib.legend.Legend at 0x7fa7e1461c50>"
            ]
          },
          "metadata": {
            "tags": []
          },
          "execution_count": 5
        },
        {
          "output_type": "display_data",
          "data": {
            "image/png": "[encoded data removed]",
            "text/plain": [
              "<Figure size 432x288 with 1 Axes>"
            ]
          },
          "metadata": {
            "tags": [],
            "needs_background": "light"
          }
        }
      ]
    },
    {
      "cell_type": "markdown",
      "metadata": {
        "id": "WOn9uS1GzeEY",
        "colab_type": "text"
      },
      "source": [
        "Now we want to fit the model to the given data points. In order to do so, we minimize `(y_pred-y)^2` and use PyTorch's auto differentiation to calculate the gradients."
      ]
    },
    {
      "cell_type": "code",
      "metadata": {
        "id": "q_55SIVpzkD-",
        "colab_type": "code",
        "colab": {
          "base_uri": "https://localhost:8080/",
          "height": 895
        },
        "outputId": "0f534a45-068c-4cd6-dcf5-c26bac563a58"
      },
      "source": [
        "optimizer = torch.optim.Adam([alpha, beta], lr=1e-2)\n",
        "\n",
        "for t in range(1000):\n",
        "    # Forward\n",
        "    y_pred = x.mul(beta).add(alpha.expand(N))\n",
        "    loss = (y_pred - y).pow(2).mean()\n",
        "    # Log\n",
        "    if t % 20 == 0:\n",
        "        print(f'Step: {t}: Loss: {loss}')\n",
        "    \n",
        "    optimizer.zero_grad()\n",
        "    # Backward\n",
        "    loss.backward()\n",
        "    # Update parameters\n",
        "    optimizer.step()"
      ],
      "execution_count": null,
      "outputs": [
        {
          "output_type": "stream",
          "text": [
            "Step: 0: Loss: 23.573230743408203\n",
            "Step: 20: Loss: 21.162458419799805\n",
            "Step: 40: Loss: 18.918540954589844\n",
            "Step: 60: Loss: 16.853395462036133\n",
            "Step: 80: Loss: 14.96367073059082\n",
            "Step: 100: Loss: 13.241092681884766\n",
            "Step: 120: Loss: 11.676338195800781\n",
            "Step: 140: Loss: 10.259969711303711\n",
            "Step: 160: Loss: 8.982609748840332\n",
            "Step: 180: Loss: 7.83499813079834\n",
            "Step: 200: Loss: 6.8080244064331055\n",
            "Step: 220: Loss: 5.892768859863281\n",
            "Step: 240: Loss: 5.080532073974609\n",
            "Step: 260: Loss: 4.36287260055542\n",
            "Step: 280: Loss: 3.731635093688965\n",
            "Step: 300: Loss: 3.178990364074707\n",
            "Step: 320: Loss: 2.69746470451355\n",
            "Step: 340: Loss: 2.2799575328826904\n",
            "Step: 360: Loss: 1.9197697639465332\n",
            "Step: 380: Loss: 1.6106263399124146\n",
            "Step: 400: Loss: 1.3466777801513672\n",
            "Step: 420: Loss: 1.122515320777893\n",
            "Step: 440: Loss: 0.933172345161438\n",
            "Step: 460: Loss: 0.7741165161132812\n",
            "Step: 480: Loss: 0.6412473917007446\n",
            "Step: 500: Loss: 0.5308793783187866\n",
            "Step: 520: Loss: 0.43972182273864746\n",
            "Step: 540: Loss: 0.36486348509788513\n",
            "Step: 560: Loss: 0.30374589562416077\n",
            "Step: 580: Loss: 0.25413772463798523\n",
            "Step: 600: Loss: 0.21410773694515228\n",
            "Step: 620: Loss: 0.18199647963047028\n",
            "Step: 640: Loss: 0.15639081597328186\n",
            "Step: 660: Loss: 0.13609349727630615\n",
            "Step: 680: Loss: 0.12010036408901215\n",
            "Step: 700: Loss: 0.10757403075695038\n",
            "Step: 720: Loss: 0.09782248735427856\n",
            "Step: 740: Loss: 0.09027634561061859\n",
            "Step: 760: Loss: 0.08447259664535522\n",
            "Step: 780: Loss: 0.08003582805395126\n",
            "Step: 800: Loss: 0.0766647607088089\n",
            "Step: 820: Loss: 0.07411906868219376\n",
            "Step: 840: Loss: 0.07220849394798279\n",
            "Step: 860: Loss: 0.07078342139720917\n",
            "Step: 880: Loss: 0.06972699612379074\n",
            "Step: 900: Loss: 0.06894876062870026\n",
            "Step: 920: Loss: 0.06837905198335648\n",
            "Step: 940: Loss: 0.0679645761847496\n",
            "Step: 960: Loss: 0.06766486912965775\n",
            "Step: 980: Loss: 0.06744968891143799\n"
          ],
          "name": "stdout"
        }
      ]
    },
    {
      "cell_type": "markdown",
      "metadata": {
        "id": "WkJv1K5a0BHq",
        "colab_type": "text"
      },
      "source": [
        "Now let's see where our model is at."
      ]
    },
    {
      "cell_type": "code",
      "metadata": {
        "id": "za4Vk56wztiW",
        "colab_type": "code",
        "colab": {}
      },
      "source": [
        "print(f\"Optimized Alpha: {alpha}\")\n",
        "print(f\"Optimized Beta: {beta}\")\n",
        "\n",
        "print(f\"Ground Truth Alpha: {a}\")\n",
        "print(f\"Ground Truth Beta: {b}\")"
      ],
      "execution_count": null,
      "outputs": []
    },
    {
      "cell_type": "markdown",
      "metadata": {
        "id": "BKg1n2Mm0E7c",
        "colab_type": "text"
      },
      "source": [
        "The trained model would be something that looks like below."
      ]
    },
    {
      "cell_type": "code",
      "metadata": {
        "id": "1qaoCQ8I0HIa",
        "colab_type": "code",
        "colab": {
          "base_uri": "https://localhost:8080/",
          "height": 297
        },
        "outputId": "cc82f21b-bf1e-428a-baca-8ca55ca23042"
      },
      "source": [
        "x_min = x.min()\n",
        "x_max = x.max()\n",
        "y_pred_min = alpha + beta*x_min\n",
        "y_pred_max = alpha + beta*x_max\n",
        "\n",
        "plt.plot(x,y, 'r.')\n",
        "plt.plot([x_min,x_max], [y_pred_min,y_pred_max], 'b-')\n",
        "plt.xlabel('x')\n",
        "plt.ylabel('y')\n",
        "plt.legend(['data', 'model'])"
      ],
      "execution_count": null,
      "outputs": [
        {
          "output_type": "execute_result",
          "data": {
            "text/plain": [
              "<matplotlib.legend.Legend at 0x7fa7e0727080>"
            ]
          },
          "metadata": {
            "tags": []
          },
          "execution_count": 7
        },
        {
          "output_type": "display_data",
          "data": {
            "image/png": "[encoded data removed]",
            "text/plain": [
              "<Figure size 432x288 with 1 Axes>"
            ]
          },
          "metadata": {
            "tags": [],
            "needs_background": "light"
          }
        }
      ]
    },
    {
      "cell_type": "markdown",
      "metadata": {
        "id": "pFIi72rI0eF3",
        "colab_type": "text"
      },
      "source": [
        "What if the correlation between x and y looks like something below? <!-- asking explicit questions-->"
      ]
    },
    {
      "cell_type": "code",
      "metadata": {
        "id": "Yvm5YkMW0lNX",
        "colab_type": "code",
        "colab": {
          "base_uri": "https://localhost:8080/",
          "height": 297
        },
        "outputId": "f095ef1b-ffb9-40f8-f745-a07b24fe7751"
      },
      "source": [
        "N = 64\n",
        "a = 3\n",
        "b = 4\n",
        "\n",
        "x = torch.randn(N)\n",
        "noise = torch.rand(N)\n",
        "\n",
        "y = a + b*torch.sin(x*3) + noise\n",
        "\n",
        "plt.plot(x,y, 'r.')\n",
        "plt.xlabel('x')\n",
        "plt.ylabel('y')\n",
        "\n",
        "plt.legend(['data'])"
      ],
      "execution_count": null,
      "outputs": [
        {
          "output_type": "execute_result",
          "data": {
            "text/plain": [
              "<matplotlib.legend.Legend at 0x7fa7e0732a58>"
            ]
          },
          "metadata": {
            "tags": []
          },
          "execution_count": 8
        },
        {
          "output_type": "display_data",
          "data": {
            "image/png": "[encoded data removed]",
            "text/plain": [
              "<Figure size 432x288 with 1 Axes>"
            ]
          },
          "metadata": {
            "tags": [],
            "needs_background": "light"
          }
        }
      ]
    },
    {
      "cell_type": "code",
      "metadata": {
        "id": "O1ZsqCzz9kFf",
        "colab_type": "code",
        "colab": {
          "base_uri": "https://localhost:8080/",
          "height": 895
        },
        "outputId": "c187ed05-34e6-4514-e315-d14686fb64ba"
      },
      "source": [
        "optimizer = torch.optim.Adam([alpha, beta], lr=1e-2)\n",
        "\n",
        "for t in range(1000):\n",
        "    y_pred = x.mul(beta).add(alpha.expand(N))\n",
        "    \n",
        "    loss = (y_pred - y).pow(2).mean()\n",
        "    \n",
        "    if t % 20 == 0:\n",
        "        print(f'Step: {t}: Loss: {loss}')\n",
        "    \n",
        "    optimizer.zero_grad()   \n",
        "    \n",
        "    loss.backward()\n",
        "    \n",
        "    optimizer.step()"
      ],
      "execution_count": null,
      "outputs": [
        {
          "output_type": "stream",
          "text": [
            "Step: 0: Loss: 21.57476806640625\n",
            "Step: 20: Loss: 20.037872314453125\n",
            "Step: 40: Loss: 18.695796966552734\n",
            "Step: 60: Loss: 17.522422790527344\n",
            "Step: 80: Loss: 16.47254180908203\n",
            "Step: 100: Loss: 15.517010688781738\n",
            "Step: 120: Loss: 14.64432144165039\n",
            "Step: 140: Loss: 13.849416732788086\n",
            "Step: 160: Loss: 13.128034591674805\n",
            "Step: 180: Loss: 12.475786209106445\n",
            "Step: 200: Loss: 11.888248443603516\n",
            "Step: 220: Loss: 11.361026763916016\n",
            "Step: 240: Loss: 10.889785766601562\n",
            "Step: 260: Loss: 10.470276832580566\n",
            "Step: 280: Loss: 10.098369598388672\n",
            "Step: 300: Loss: 9.770063400268555\n",
            "Step: 320: Loss: 9.481513977050781\n",
            "Step: 340: Loss: 9.229043006896973\n",
            "Step: 360: Loss: 9.009149551391602\n",
            "Step: 380: Loss: 8.81852912902832\n",
            "Step: 400: Loss: 8.654075622558594\n",
            "Step: 420: Loss: 8.512885093688965\n",
            "Step: 440: Loss: 8.3922700881958\n",
            "Step: 460: Loss: 8.289751052856445\n",
            "Step: 480: Loss: 8.203059196472168\n",
            "Step: 500: Loss: 8.130130767822266\n",
            "Step: 520: Loss: 8.069101333618164\n",
            "Step: 540: Loss: 8.018301010131836\n",
            "Step: 560: Loss: 7.976240158081055\n",
            "Step: 580: Loss: 7.9416046142578125\n",
            "Step: 600: Loss: 7.913238525390625\n",
            "Step: 620: Loss: 7.890132427215576\n",
            "Step: 640: Loss: 7.8714165687561035\n",
            "Step: 660: Loss: 7.856339454650879\n",
            "Step: 680: Loss: 7.844261169433594\n",
            "Step: 700: Loss: 7.834639072418213\n",
            "Step: 720: Loss: 7.827017784118652\n",
            "Step: 740: Loss: 7.821014404296875\n",
            "Step: 760: Loss: 7.816311359405518\n",
            "Step: 780: Loss: 7.812647819519043\n",
            "Step: 800: Loss: 7.809812545776367\n",
            "Step: 820: Loss: 7.807629108428955\n",
            "Step: 840: Loss: 7.805956840515137\n",
            "Step: 860: Loss: 7.804684162139893\n",
            "Step: 880: Loss: 7.8037214279174805\n",
            "Step: 900: Loss: 7.802996635437012\n",
            "Step: 920: Loss: 7.802455425262451\n",
            "Step: 940: Loss: 7.802052021026611\n",
            "Step: 960: Loss: 7.801753997802734\n",
            "Step: 980: Loss: 7.801535606384277\n"
          ],
          "name": "stdout"
        }
      ]
    },
    {
      "cell_type": "code",
      "metadata": {
        "id": "5XdsL0mm_hIX",
        "colab_type": "code",
        "colab": {
          "base_uri": "https://localhost:8080/",
          "height": 297
        },
        "outputId": "eb99fe14-a541-482b-dc34-b13c2a5c3731"
      },
      "source": [
        "x_min = x.min()\n",
        "x_max = x.max()\n",
        "y_pred_min = alpha + beta*x_min\n",
        "y_pred_max = alpha + beta*x_max\n",
        "\n",
        "plt.plot(x,y, 'r.')\n",
        "plt.plot([x_min,x_max], [y_pred_min,y_pred_max], 'b-')\n",
        "plt.xlabel('x')\n",
        "plt.ylabel('y')\n",
        "plt.legend(['data', 'model'])"
      ],
      "execution_count": null,
      "outputs": [
        {
          "output_type": "execute_result",
          "data": {
            "text/plain": [
              "<matplotlib.legend.Legend at 0x7fa7e06810b8>"
            ]
          },
          "metadata": {
            "tags": []
          },
          "execution_count": 10
        },
        {
          "output_type": "display_data",
          "data": {
            "image/png": "[encoded data removed]",
            "text/plain": [
              "<Figure size 432x288 with 1 Axes>"
            ]
          },
          "metadata": {
            "tags": [],
            "needs_background": "light"
          }
        }
      ]
    },
    {
      "cell_type": "markdown",
      "metadata": {
        "id": "Ec2I94rQ_6wh",
        "colab_type": "text"
      },
      "source": [
        "How shall we solve this issue?"
      ]
    }
  ]
}