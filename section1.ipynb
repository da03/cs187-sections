{
  "nbformat": 4,
  "nbformat_minor": 0,
  "metadata": {
    "colab": {
      "name": "section1.ipynb",
      "provenance": [],
      "collapsed_sections": [],
      "authorship_tag": "ABX9TyPOZlaEC2LoGO7w/TL/iUmg",
      "include_colab_link": true
    },
    "kernelspec": {
      "name": "python3",
      "display_name": "Python 3"
    }
  },
  "cells": [
    {
      "cell_type": "markdown",
      "metadata": {
        "id": "view-in-github",
        "colab_type": "text"
      },
      "source": [
        "<a href=\"https://colab.research.google.com/github/da03/cs187-sections/blob/master/section1.ipynb\" target=\"_parent\"><img src=\"https://colab.research.google.com/assets/colab-badge.svg\" alt=\"Open In Colab\"/></a>"
      ]
    },
    {
      "cell_type": "markdown",
      "metadata": {
        "id": "wUz9Nr3Dufxd",
        "colab_type": "text"
      },
      "source": [
        "# Introduction to Scientific Computing in Numpy and PyTorch\n",
        "\n",
        "With the help of numpy and torch, Python becomes a powerful tool for scientific computing. Today, we're going to cover some of tools and tricks to using those libraries to write code for CS187. \n",
        "\n",
        "This tutorial is adapted from section 2 in CS281-2017, created by Rachit Singh."
      ]
    },
    {
      "cell_type": "code",
      "metadata": {
        "id": "Fsg78-YXxshd",
        "colab_type": "code",
        "colab": {}
      },
      "source": [
        "import numpy as np\n",
        "import torch"
      ],
      "execution_count": null,
      "outputs": []
    },
    {
      "cell_type": "markdown",
      "metadata": {
        "id": "8zpW4dpS4eGx",
        "colab_type": "text"
      },
      "source": [
        "## Python Basics"
      ]
    },
    {
      "cell_type": "markdown",
      "metadata": {
        "id": "igRbp1kmFU5w",
        "colab_type": "text"
      },
      "source": [
        "### Print\n",
        "\n",
        "`print` is probably the most powerful debugging tool in Python, although there are debugging tools such as `pdb`."
      ]
    },
    {
      "cell_type": "code",
      "metadata": {
        "id": "UcyNpqIoFXTk",
        "colab_type": "code",
        "colab": {}
      },
      "source": [
        "print ('123')\n",
        "\n",
        "print (f'123 {123+456}')"
      ],
      "execution_count": null,
      "outputs": []
    },
    {
      "cell_type": "markdown",
      "metadata": {
        "id": "ifRC20p84iHk",
        "colab_type": "text"
      },
      "source": [
        "### Basic Data Types\n",
        "\n",
        "* Numbers"
      ]
    },
    {
      "cell_type": "code",
      "metadata": {
        "id": "Erc1BKnS4tiY",
        "colab_type": "code",
        "colab": {}
      },
      "source": [
        "x = 3.5\n",
        "print (type(x))\n",
        "print (x + 1)\n",
        "print (x ** 2)"
      ],
      "execution_count": null,
      "outputs": []
    },
    {
      "cell_type": "markdown",
      "metadata": {
        "id": "EApQEvUP4x1A",
        "colab_type": "text"
      },
      "source": [
        "* Booleans"
      ]
    },
    {
      "cell_type": "code",
      "metadata": {
        "id": "ux6CcTc04zRc",
        "colab_type": "code",
        "colab": {}
      },
      "source": [
        "t = True\n",
        "f = False\n",
        "print (type(t))\n",
        "print (t and f)\n",
        "print (t or f)\n",
        "print (not t)"
      ],
      "execution_count": null,
      "outputs": []
    },
    {
      "cell_type": "markdown",
      "metadata": {
        "id": "R-7JnUGF41p_",
        "colab_type": "text"
      },
      "source": [
        "* Strings"
      ]
    },
    {
      "cell_type": "code",
      "metadata": {
        "id": "1ywa-R2_44Hg",
        "colab_type": "code",
        "colab": {}
      },
      "source": [
        "hello = 'hello'\n",
        "print (len(hello))\n",
        "print (hello[0])"
      ],
      "execution_count": null,
      "outputs": []
    },
    {
      "cell_type": "markdown",
      "metadata": {
        "id": "jfCzUADT46XQ",
        "colab_type": "text"
      },
      "source": [
        "* Lists"
      ]
    },
    {
      "cell_type": "code",
      "metadata": {
        "id": "s9dRoczt49_2",
        "colab_type": "code",
        "colab": {}
      },
      "source": [
        "xs = [3, 1, 2, 6, 7, 9, 8]\n",
        "print (xs[-1])\n",
        "xs[2] = 'foo'\n",
        "print (xs)\n",
        "xs.append('bar')\n",
        "print (xs)\n",
        "xs.pop()\n",
        "print (xs)\n",
        "print (xs[0:4])\n",
        "print (xs[2:])\n",
        "print (xs[:2])"
      ],
      "execution_count": null,
      "outputs": []
    },
    {
      "cell_type": "markdown",
      "metadata": {
        "id": "bAMkbzfh5BeE",
        "colab_type": "text"
      },
      "source": [
        "* Dictionaries"
      ]
    },
    {
      "cell_type": "code",
      "metadata": {
        "id": "Lf77tYix5DpM",
        "colab_type": "code",
        "colab": {}
      },
      "source": [
        "d = {'would': 1, 'you': 2}\n",
        "print (d['would'])\n",
        "d['would'] = 2\n",
        "print (d['would'])"
      ],
      "execution_count": null,
      "outputs": []
    },
    {
      "cell_type": "markdown",
      "metadata": {
        "id": "Zg3n3aa45RTk",
        "colab_type": "text"
      },
      "source": [
        "* Loops"
      ]
    },
    {
      "cell_type": "code",
      "metadata": {
        "id": "INDM2xag5S0l",
        "colab_type": "code",
        "colab": {}
      },
      "source": [
        "nums = [0, 1, 2, 3, 4]\n",
        "squares = []\n",
        "for x in nums:\n",
        "    squares.append(x ** 2)\n",
        "print (squares)"
      ],
      "execution_count": null,
      "outputs": []
    },
    {
      "cell_type": "markdown",
      "metadata": {
        "id": "CEY4g5z35VVn",
        "colab_type": "text"
      },
      "source": [
        "* Functions\n"
      ]
    },
    {
      "cell_type": "code",
      "metadata": {
        "id": "RSYFb2Su5WmK",
        "colab_type": "code",
        "colab": {}
      },
      "source": [
        "def sign(x):\n",
        "    if x > 0:\n",
        "        return 'positive'\n",
        "    elif x < 0:\n",
        "        return 'negative'\n",
        "    else:\n",
        "        return 'zero'\n",
        "\n",
        "for x in [-1, 0, 1]:\n",
        "    print (f'x: {x}, sign(x): {sign(x)}')"
      ],
      "execution_count": null,
      "outputs": []
    },
    {
      "cell_type": "markdown",
      "metadata": {
        "id": "tiWgcJPEvh10",
        "colab_type": "text"
      },
      "source": [
        "## Tensor Basics in Numpy and PyTorch\n",
        "\n",
        "You might ask why we want to trouble doing things in tensors/vectors instead of just using for loop. Well, the reason is that doing so allows for efficient, sometimes even parallel computations. This is especially important for a script language like Python, and a parallel hardware such as GPU.\n"
      ]
    },
    {
      "cell_type": "code",
      "metadata": {
        "id": "L-Q6SUvM6pSN",
        "colab_type": "code",
        "colab": {}
      },
      "source": [
        "size = 10000\n",
        "\n",
        "a = np.random.random(size=(size,))\n",
        "b = np.random.random(size=(size,))\n",
        "\n",
        "# a vectorized implementation\n",
        "%time b[np.where(a == 4)] = 1\n",
        "\n",
        "# a for loop implementation\n",
        "def set_array(a, b):\n",
        "  for idx, item in enumerate(a):\n",
        "    if item == 4:\n",
        "      b[idx] = 1\n",
        "%time set_array(a, b)"
      ],
      "execution_count": null,
      "outputs": []
    },
    {
      "cell_type": "markdown",
      "metadata": {
        "id": "KnPZLXJV6p0T",
        "colab_type": "text"
      },
      "source": [
        "\n",
        "The most important properties of a tensor object is its shape and its data type."
      ]
    },
    {
      "cell_type": "code",
      "metadata": {
        "id": "638HeMg6-bvh",
        "colab_type": "code",
        "colab": {}
      },
      "source": [
        "a = np.array([[2, 3, 4], [4, 5, 6]], dtype=np.int64)\n",
        "print (a)\n",
        "print (f'Shape: {a.shape}, data type: {a.dtype}')\n",
        "\n",
        "b = torch.LongTensor([[2, 3, 4], [4, 5, 6]])\n",
        "print (b)\n",
        "print (f'Shape: {b.shape}, data type: {b.dtype}')"
      ],
      "execution_count": null,
      "outputs": []
    },
    {
      "cell_type": "markdown",
      "metadata": {
        "id": "8LiqK5ji_DLK",
        "colab_type": "text"
      },
      "source": [
        "You can cast an array to the right datatype, and reshape it to be the right shape:"
      ]
    },
    {
      "cell_type": "code",
      "metadata": {
        "id": "-8zlThM__KSB",
        "colab_type": "code",
        "colab": {}
      },
      "source": [
        "c = a.astype(np.float32)\n",
        "print (f'Shape: {c.shape}, data type: {c.dtype}')\n",
        "d = c.reshape((6, 1))\n",
        "print (d)\n",
        "\n",
        "e = b.float()\n",
        "print (f'Shape: {e.shape}, data type: {e.dtype}')\n",
        "f = e.reshape((6, 1))\n",
        "print (f)"
      ],
      "execution_count": null,
      "outputs": []
    },
    {
      "cell_type": "markdown",
      "metadata": {
        "id": "Hs-GOX9j_rKM",
        "colab_type": "text"
      },
      "source": [
        "One useful trick is that you can reshape with a flexible shape of -1, and numpy/torch will infer the missing size."
      ]
    },
    {
      "cell_type": "code",
      "metadata": {
        "id": "1RoGFnBY_ugH",
        "colab_type": "code",
        "colab": {}
      },
      "source": [
        "print (a.reshape((3, -1)))\n",
        "\n",
        "print (b.reshape((3, -1)))"
      ],
      "execution_count": null,
      "outputs": []
    },
    {
      "cell_type": "markdown",
      "metadata": {
        "id": "QqncrELg_7xW",
        "colab_type": "text"
      },
      "source": [
        "\n",
        "One of the most useful way to work with tensors is via indexing and broadcasting:"
      ]
    },
    {
      "cell_type": "code",
      "metadata": {
        "id": "Rfn0C9NxBEIY",
        "colab_type": "code",
        "colab": {}
      },
      "source": [
        "g = torch.Tensor([[2, 0, 4],\n",
        "        [1, 2, 1]])\n",
        "k = g\n",
        "k[1, 1] = -1"
      ],
      "execution_count": null,
      "outputs": []
    },
    {
      "cell_type": "markdown",
      "metadata": {
        "id": "adCGZauBB9di",
        "colab_type": "text"
      },
      "source": [
        "What will the value of `g` be?"
      ]
    },
    {
      "cell_type": "code",
      "metadata": {
        "id": "5FndafWiCA82",
        "colab_type": "code",
        "colab": {}
      },
      "source": [
        "print (g)"
      ],
      "execution_count": null,
      "outputs": []
    },
    {
      "cell_type": "code",
      "metadata": {
        "id": "9I4SvLFG_-1k",
        "colab_type": "code",
        "colab": {}
      },
      "source": [
        "g = np.copy(a)\n",
        "h = b.clone()\n",
        "# the below operations also work for numpy\n",
        "print (h)\n",
        "h[:, 1] = 0.\n",
        "print (h)\n",
        "h[1, :] = 1.\n",
        "print (h)\n",
        "h[1, 1] = 2.\n",
        "print (h)"
      ],
      "execution_count": null,
      "outputs": []
    },
    {
      "cell_type": "markdown",
      "metadata": {
        "id": "HHnX34MiAXUl",
        "colab_type": "text"
      },
      "source": [
        "One incredibly powerful technique is to use bool tensors to index into a tensor:"
      ]
    },
    {
      "cell_type": "code",
      "metadata": {
        "id": "zl7MVuxqAiUO",
        "colab_type": "code",
        "colab": {}
      },
      "source": [
        "print(a > 1)\n",
        "\n",
        "print(b > 1)"
      ],
      "execution_count": null,
      "outputs": []
    },
    {
      "cell_type": "code",
      "metadata": {
        "id": "2ouieORACKkk",
        "colab_type": "code",
        "colab": {}
      },
      "source": [
        "b[b > 1] = 100\n",
        "print(b)"
      ],
      "execution_count": null,
      "outputs": []
    },
    {
      "cell_type": "markdown",
      "metadata": {
        "id": "8KPuHCEtCV7d",
        "colab_type": "text"
      },
      "source": [
        "The above works because `b > 1` is a boolean array of shape (2, 3), which matches the shape of `b`. Here's another example of viewing and indexing:"
      ]
    },
    {
      "cell_type": "code",
      "metadata": {
        "id": "9AHYGoOOCadM",
        "colab_type": "code",
        "colab": {}
      },
      "source": [
        "b = torch.tensor([[2, 3, 4], [4, 5, 6]])\n",
        "b.reshape((6, -1))[torch.arange(6) % 2 == 1] = 10\n",
        "print (b)"
      ],
      "execution_count": null,
      "outputs": []
    },
    {
      "cell_type": "markdown",
      "metadata": {
        "id": "sJaerVd9Cj7X",
        "colab_type": "text"
      },
      "source": [
        "In this case, we reviewed `b` as a (6, 1) array, and then indexed in with a boolean array (`np.arange(6) % 2 == 1`) of the same shape, and assigned those values 10. But wait, is that the right shape?"
      ]
    },
    {
      "cell_type": "code",
      "metadata": {
        "id": "iEKXubOvCmr5",
        "colab_type": "code",
        "colab": {}
      },
      "source": [
        "(torch.arange(6) % 2 == 1).shape"
      ],
      "execution_count": null,
      "outputs": []
    },
    {
      "cell_type": "markdown",
      "metadata": {
        "id": "d6j4WI5ACpbY",
        "colab_type": "text"
      },
      "source": [
        "What happened here is that torch/numpy *broadcasted* out the extra dimension for you, understanding what was going on. Here's another example of broadcasting:"
      ]
    },
    {
      "cell_type": "code",
      "metadata": {
        "id": "KnvQYYVPCyMm",
        "colab_type": "code",
        "colab": {}
      },
      "source": [
        "b = torch.tensor([[2, 3], [4, 4], [5, 6]])\n",
        "b[torch.arange(3) % 2 == 1] = 1.\n",
        "print (b)"
      ],
      "execution_count": null,
      "outputs": []
    },
    {
      "cell_type": "markdown",
      "metadata": {
        "id": "9re5J8BeDEum",
        "colab_type": "text"
      },
      "source": [
        "### Math\n",
        "You can use your usual math operations like you'd expect."
      ]
    },
    {
      "cell_type": "code",
      "metadata": {
        "id": "WVKIUtVNDGMW",
        "colab_type": "code",
        "colab": {}
      },
      "source": [
        "a = torch.rand(size=(2, 3))\n",
        "b = torch.rand(size=(2, 3))\n",
        "print (a)\n",
        "print (b)\n",
        "print (a + b)"
      ],
      "execution_count": null,
      "outputs": []
    },
    {
      "cell_type": "code",
      "metadata": {
        "id": "-F59ZgggDsDa",
        "colab_type": "code",
        "colab": {}
      },
      "source": [
        "print (a.sum())\n",
        "print (a.sum(0))\n",
        "print (a.max())\n",
        "print (a.max(0))"
      ],
      "execution_count": null,
      "outputs": []
    },
    {
      "cell_type": "code",
      "metadata": {
        "id": "HP60bH_IEDo3",
        "colab_type": "code",
        "colab": {}
      },
      "source": [
        "print (a * b) # elementwise multiplication"
      ],
      "execution_count": null,
      "outputs": []
    },
    {
      "cell_type": "code",
      "metadata": {
        "id": "5Rh1lV5-E3KB",
        "colab_type": "code",
        "colab": {}
      },
      "source": [
        "print (torch.min(a, b)) # elementwise minimum"
      ],
      "execution_count": null,
      "outputs": []
    },
    {
      "cell_type": "code",
      "metadata": {
        "id": "ureECJpqELD8",
        "colab_type": "code",
        "colab": {}
      },
      "source": [
        "print (torch.mm(a, b)) # mm = matrix multiplication"
      ],
      "execution_count": null,
      "outputs": []
    },
    {
      "cell_type": "code",
      "metadata": {
        "id": "oN_O2u7yEQQN",
        "colab_type": "code",
        "colab": {}
      },
      "source": [
        "print (torch.mm(a.transpose(0,1), b))"
      ],
      "execution_count": null,
      "outputs": []
    },
    {
      "cell_type": "code",
      "metadata": {
        "id": "0Tcw4qhUGLG1",
        "colab_type": "code",
        "colab": {}
      },
      "source": [
        ""
      ],
      "execution_count": null,
      "outputs": []
    }
  ]
}